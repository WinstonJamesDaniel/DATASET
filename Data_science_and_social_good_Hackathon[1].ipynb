{
  "nbformat": 4,
  "nbformat_minor": 0,
  "metadata": {
    "colab": {
      "provenance": []
    },
    "kernelspec": {
      "name": "python3",
      "display_name": "Python 3"
    },
    "language_info": {
      "name": "python"
    }
  },
  "cells": [
    {
      "cell_type": "code",
      "execution_count": 1,
      "metadata": {
        "colab": {
          "base_uri": "https://localhost:8080/"
        },
        "id": "826vSH0nehWf",
        "outputId": "17d2a27d-a149-433f-b81b-a616bfbd799a"
      },
      "outputs": [
        {
          "output_type": "stream",
          "name": "stdout",
          "text": [
            "Mounted at /content/drive\n"
          ]
        }
      ],
      "source": [
        "from google.colab import drive\n",
        "drive.mount('/content/drive', force_remount = True)"
      ]
    },
    {
      "cell_type": "code",
      "source": [
        "path = '/content/drive/MyDrive/Titanic_visu (1).xlsx'\n",
        "import pandas as pd\n",
        "df = pd.read_excel(path)\n",
        "df"
      ],
      "metadata": {
        "colab": {
          "base_uri": "https://localhost:8080/",
          "height": 833
        },
        "id": "hpVOeJkXetUp",
        "outputId": "e29921da-1711-427f-df7c-577773ed9e80"
      },
      "execution_count": 5,
      "outputs": [
        {
          "output_type": "execute_result",
          "data": {
            "text/plain": [
              "    Unnamed: 0  Survived  Pclass           Name     Sex  Age  \\\n",
              "0            0         0       3         Braund    male   22   \n",
              "1            1         1       1        Cumings  female   38   \n",
              "2            2         1       3      Heikkinen  female   26   \n",
              "3            3         1       1       Futrelle  female   35   \n",
              "4            4         0       3          Allen    male   35   \n",
              "5            5         0       3          Moran    male   43   \n",
              "6            6         0       1       McCarthy    male   54   \n",
              "7            7         0       3        Palsson    male   40   \n",
              "8            8         1       3        Johnson  female   27   \n",
              "9            9         1       2         Nasser  female   26   \n",
              "10          10         1       3      Sandstrom  female   24   \n",
              "11          11         1       1        Bonnell  female   58   \n",
              "12          12         0       3    Saundercock    male   20   \n",
              "13          13         0       3      Andersson    male   39   \n",
              "14          14         0       3        Vestrom  female   26   \n",
              "15          15         1       2        Hewlett  female   55   \n",
              "16          16         0       3           Rice    male   43   \n",
              "17          17         1       2       Williams    male   42   \n",
              "18          18         0       3  Vander Planke  female   31   \n",
              "19          19         1       3     Masselmani  female   23   \n",
              "20          20         0       2         Fynney    male   35   \n",
              "21          21         1       2        Beesley    male   34   \n",
              "22          22         1       3        McGowan  female   52   \n",
              "23          23         1       1         Sloper    male   28   \n",
              "24          24         0       3        Palsson  female   48   \n",
              "\n",
              "              Ticket     Fare Embarked  Concession   New_Fare  \n",
              "0          A/5 21171  53.1000        S        16.1  61.649100  \n",
              "1           PC 17599  13.0000        C        17.5  15.275000  \n",
              "2   STON/O2. 3101282  31.2750        S        16.4  36.404100  \n",
              "3             113803  18.0000        S        17.4  21.132000  \n",
              "4             373450  16.7000        S        17.4  19.605800  \n",
              "5             330877   8.0500        Q        18.7   9.555350  \n",
              "6              17463   7.8542        S        19.5   9.385769  \n",
              "7             349909  11.1333        Q        18.0  13.137294  \n",
              "8             347742  26.5500        S        16.6  30.957300  \n",
              "9             237736  30.0708        C        16.4  35.002411  \n",
              "10           PP 9549  35.5000        S        16.3  41.286500  \n",
              "11            113783   7.2250        S        20.0   8.670000  \n",
              "12         A/5. 2151  71.2833        S        16.0  82.688628  \n",
              "13            347082  13.0000        Q        17.8  15.314000  \n",
              "14            350406  29.1250        S        16.4  33.901500  \n",
              "15            248706   7.2500        S        19.8   8.685500  \n",
              "16            382652   8.0500        Q        18.7   9.555350  \n",
              "17            244373   8.4583        S        18.3  10.006169  \n",
              "18            345763  21.0750        S        17.0  24.657750  \n",
              "19              2649  51.8625        C        16.2  60.264225  \n",
              "20            239865  16.0000        S        17.4  18.784000  \n",
              "21            248698  21.0750        S        17.2  24.699900  \n",
              "22            330923   7.9250        Q        19.2   9.446600  \n",
              "23            113788  26.0000        S        16.8  30.368000  \n",
              "24            349909   8.0292        S        19.0   9.554748  "
            ],
            "text/html": [
              "\n",
              "  <div id=\"df-a7c9b4ea-de76-4b89-a4e0-f44909a9602d\">\n",
              "    <div class=\"colab-df-container\">\n",
              "      <div>\n",
              "<style scoped>\n",
              "    .dataframe tbody tr th:only-of-type {\n",
              "        vertical-align: middle;\n",
              "    }\n",
              "\n",
              "    .dataframe tbody tr th {\n",
              "        vertical-align: top;\n",
              "    }\n",
              "\n",
              "    .dataframe thead th {\n",
              "        text-align: right;\n",
              "    }\n",
              "</style>\n",
              "<table border=\"1\" class=\"dataframe\">\n",
              "  <thead>\n",
              "    <tr style=\"text-align: right;\">\n",
              "      <th></th>\n",
              "      <th>Unnamed: 0</th>\n",
              "      <th>Survived</th>\n",
              "      <th>Pclass</th>\n",
              "      <th>Name</th>\n",
              "      <th>Sex</th>\n",
              "      <th>Age</th>\n",
              "      <th>Ticket</th>\n",
              "      <th>Fare</th>\n",
              "      <th>Embarked</th>\n",
              "      <th>Concession</th>\n",
              "      <th>New_Fare</th>\n",
              "    </tr>\n",
              "  </thead>\n",
              "  <tbody>\n",
              "    <tr>\n",
              "      <th>0</th>\n",
              "      <td>0</td>\n",
              "      <td>0</td>\n",
              "      <td>3</td>\n",
              "      <td>Braund</td>\n",
              "      <td>male</td>\n",
              "      <td>22</td>\n",
              "      <td>A/5 21171</td>\n",
              "      <td>53.1000</td>\n",
              "      <td>S</td>\n",
              "      <td>16.1</td>\n",
              "      <td>61.649100</td>\n",
              "    </tr>\n",
              "    <tr>\n",
              "      <th>1</th>\n",
              "      <td>1</td>\n",
              "      <td>1</td>\n",
              "      <td>1</td>\n",
              "      <td>Cumings</td>\n",
              "      <td>female</td>\n",
              "      <td>38</td>\n",
              "      <td>PC 17599</td>\n",
              "      <td>13.0000</td>\n",
              "      <td>C</td>\n",
              "      <td>17.5</td>\n",
              "      <td>15.275000</td>\n",
              "    </tr>\n",
              "    <tr>\n",
              "      <th>2</th>\n",
              "      <td>2</td>\n",
              "      <td>1</td>\n",
              "      <td>3</td>\n",
              "      <td>Heikkinen</td>\n",
              "      <td>female</td>\n",
              "      <td>26</td>\n",
              "      <td>STON/O2. 3101282</td>\n",
              "      <td>31.2750</td>\n",
              "      <td>S</td>\n",
              "      <td>16.4</td>\n",
              "      <td>36.404100</td>\n",
              "    </tr>\n",
              "    <tr>\n",
              "      <th>3</th>\n",
              "      <td>3</td>\n",
              "      <td>1</td>\n",
              "      <td>1</td>\n",
              "      <td>Futrelle</td>\n",
              "      <td>female</td>\n",
              "      <td>35</td>\n",
              "      <td>113803</td>\n",
              "      <td>18.0000</td>\n",
              "      <td>S</td>\n",
              "      <td>17.4</td>\n",
              "      <td>21.132000</td>\n",
              "    </tr>\n",
              "    <tr>\n",
              "      <th>4</th>\n",
              "      <td>4</td>\n",
              "      <td>0</td>\n",
              "      <td>3</td>\n",
              "      <td>Allen</td>\n",
              "      <td>male</td>\n",
              "      <td>35</td>\n",
              "      <td>373450</td>\n",
              "      <td>16.7000</td>\n",
              "      <td>S</td>\n",
              "      <td>17.4</td>\n",
              "      <td>19.605800</td>\n",
              "    </tr>\n",
              "    <tr>\n",
              "      <th>5</th>\n",
              "      <td>5</td>\n",
              "      <td>0</td>\n",
              "      <td>3</td>\n",
              "      <td>Moran</td>\n",
              "      <td>male</td>\n",
              "      <td>43</td>\n",
              "      <td>330877</td>\n",
              "      <td>8.0500</td>\n",
              "      <td>Q</td>\n",
              "      <td>18.7</td>\n",
              "      <td>9.555350</td>\n",
              "    </tr>\n",
              "    <tr>\n",
              "      <th>6</th>\n",
              "      <td>6</td>\n",
              "      <td>0</td>\n",
              "      <td>1</td>\n",
              "      <td>McCarthy</td>\n",
              "      <td>male</td>\n",
              "      <td>54</td>\n",
              "      <td>17463</td>\n",
              "      <td>7.8542</td>\n",
              "      <td>S</td>\n",
              "      <td>19.5</td>\n",
              "      <td>9.385769</td>\n",
              "    </tr>\n",
              "    <tr>\n",
              "      <th>7</th>\n",
              "      <td>7</td>\n",
              "      <td>0</td>\n",
              "      <td>3</td>\n",
              "      <td>Palsson</td>\n",
              "      <td>male</td>\n",
              "      <td>40</td>\n",
              "      <td>349909</td>\n",
              "      <td>11.1333</td>\n",
              "      <td>Q</td>\n",
              "      <td>18.0</td>\n",
              "      <td>13.137294</td>\n",
              "    </tr>\n",
              "    <tr>\n",
              "      <th>8</th>\n",
              "      <td>8</td>\n",
              "      <td>1</td>\n",
              "      <td>3</td>\n",
              "      <td>Johnson</td>\n",
              "      <td>female</td>\n",
              "      <td>27</td>\n",
              "      <td>347742</td>\n",
              "      <td>26.5500</td>\n",
              "      <td>S</td>\n",
              "      <td>16.6</td>\n",
              "      <td>30.957300</td>\n",
              "    </tr>\n",
              "    <tr>\n",
              "      <th>9</th>\n",
              "      <td>9</td>\n",
              "      <td>1</td>\n",
              "      <td>2</td>\n",
              "      <td>Nasser</td>\n",
              "      <td>female</td>\n",
              "      <td>26</td>\n",
              "      <td>237736</td>\n",
              "      <td>30.0708</td>\n",
              "      <td>C</td>\n",
              "      <td>16.4</td>\n",
              "      <td>35.002411</td>\n",
              "    </tr>\n",
              "    <tr>\n",
              "      <th>10</th>\n",
              "      <td>10</td>\n",
              "      <td>1</td>\n",
              "      <td>3</td>\n",
              "      <td>Sandstrom</td>\n",
              "      <td>female</td>\n",
              "      <td>24</td>\n",
              "      <td>PP 9549</td>\n",
              "      <td>35.5000</td>\n",
              "      <td>S</td>\n",
              "      <td>16.3</td>\n",
              "      <td>41.286500</td>\n",
              "    </tr>\n",
              "    <tr>\n",
              "      <th>11</th>\n",
              "      <td>11</td>\n",
              "      <td>1</td>\n",
              "      <td>1</td>\n",
              "      <td>Bonnell</td>\n",
              "      <td>female</td>\n",
              "      <td>58</td>\n",
              "      <td>113783</td>\n",
              "      <td>7.2250</td>\n",
              "      <td>S</td>\n",
              "      <td>20.0</td>\n",
              "      <td>8.670000</td>\n",
              "    </tr>\n",
              "    <tr>\n",
              "      <th>12</th>\n",
              "      <td>12</td>\n",
              "      <td>0</td>\n",
              "      <td>3</td>\n",
              "      <td>Saundercock</td>\n",
              "      <td>male</td>\n",
              "      <td>20</td>\n",
              "      <td>A/5. 2151</td>\n",
              "      <td>71.2833</td>\n",
              "      <td>S</td>\n",
              "      <td>16.0</td>\n",
              "      <td>82.688628</td>\n",
              "    </tr>\n",
              "    <tr>\n",
              "      <th>13</th>\n",
              "      <td>13</td>\n",
              "      <td>0</td>\n",
              "      <td>3</td>\n",
              "      <td>Andersson</td>\n",
              "      <td>male</td>\n",
              "      <td>39</td>\n",
              "      <td>347082</td>\n",
              "      <td>13.0000</td>\n",
              "      <td>Q</td>\n",
              "      <td>17.8</td>\n",
              "      <td>15.314000</td>\n",
              "    </tr>\n",
              "    <tr>\n",
              "      <th>14</th>\n",
              "      <td>14</td>\n",
              "      <td>0</td>\n",
              "      <td>3</td>\n",
              "      <td>Vestrom</td>\n",
              "      <td>female</td>\n",
              "      <td>26</td>\n",
              "      <td>350406</td>\n",
              "      <td>29.1250</td>\n",
              "      <td>S</td>\n",
              "      <td>16.4</td>\n",
              "      <td>33.901500</td>\n",
              "    </tr>\n",
              "    <tr>\n",
              "      <th>15</th>\n",
              "      <td>15</td>\n",
              "      <td>1</td>\n",
              "      <td>2</td>\n",
              "      <td>Hewlett</td>\n",
              "      <td>female</td>\n",
              "      <td>55</td>\n",
              "      <td>248706</td>\n",
              "      <td>7.2500</td>\n",
              "      <td>S</td>\n",
              "      <td>19.8</td>\n",
              "      <td>8.685500</td>\n",
              "    </tr>\n",
              "    <tr>\n",
              "      <th>16</th>\n",
              "      <td>16</td>\n",
              "      <td>0</td>\n",
              "      <td>3</td>\n",
              "      <td>Rice</td>\n",
              "      <td>male</td>\n",
              "      <td>43</td>\n",
              "      <td>382652</td>\n",
              "      <td>8.0500</td>\n",
              "      <td>Q</td>\n",
              "      <td>18.7</td>\n",
              "      <td>9.555350</td>\n",
              "    </tr>\n",
              "    <tr>\n",
              "      <th>17</th>\n",
              "      <td>17</td>\n",
              "      <td>1</td>\n",
              "      <td>2</td>\n",
              "      <td>Williams</td>\n",
              "      <td>male</td>\n",
              "      <td>42</td>\n",
              "      <td>244373</td>\n",
              "      <td>8.4583</td>\n",
              "      <td>S</td>\n",
              "      <td>18.3</td>\n",
              "      <td>10.006169</td>\n",
              "    </tr>\n",
              "    <tr>\n",
              "      <th>18</th>\n",
              "      <td>18</td>\n",
              "      <td>0</td>\n",
              "      <td>3</td>\n",
              "      <td>Vander Planke</td>\n",
              "      <td>female</td>\n",
              "      <td>31</td>\n",
              "      <td>345763</td>\n",
              "      <td>21.0750</td>\n",
              "      <td>S</td>\n",
              "      <td>17.0</td>\n",
              "      <td>24.657750</td>\n",
              "    </tr>\n",
              "    <tr>\n",
              "      <th>19</th>\n",
              "      <td>19</td>\n",
              "      <td>1</td>\n",
              "      <td>3</td>\n",
              "      <td>Masselmani</td>\n",
              "      <td>female</td>\n",
              "      <td>23</td>\n",
              "      <td>2649</td>\n",
              "      <td>51.8625</td>\n",
              "      <td>C</td>\n",
              "      <td>16.2</td>\n",
              "      <td>60.264225</td>\n",
              "    </tr>\n",
              "    <tr>\n",
              "      <th>20</th>\n",
              "      <td>20</td>\n",
              "      <td>0</td>\n",
              "      <td>2</td>\n",
              "      <td>Fynney</td>\n",
              "      <td>male</td>\n",
              "      <td>35</td>\n",
              "      <td>239865</td>\n",
              "      <td>16.0000</td>\n",
              "      <td>S</td>\n",
              "      <td>17.4</td>\n",
              "      <td>18.784000</td>\n",
              "    </tr>\n",
              "    <tr>\n",
              "      <th>21</th>\n",
              "      <td>21</td>\n",
              "      <td>1</td>\n",
              "      <td>2</td>\n",
              "      <td>Beesley</td>\n",
              "      <td>male</td>\n",
              "      <td>34</td>\n",
              "      <td>248698</td>\n",
              "      <td>21.0750</td>\n",
              "      <td>S</td>\n",
              "      <td>17.2</td>\n",
              "      <td>24.699900</td>\n",
              "    </tr>\n",
              "    <tr>\n",
              "      <th>22</th>\n",
              "      <td>22</td>\n",
              "      <td>1</td>\n",
              "      <td>3</td>\n",
              "      <td>McGowan</td>\n",
              "      <td>female</td>\n",
              "      <td>52</td>\n",
              "      <td>330923</td>\n",
              "      <td>7.9250</td>\n",
              "      <td>Q</td>\n",
              "      <td>19.2</td>\n",
              "      <td>9.446600</td>\n",
              "    </tr>\n",
              "    <tr>\n",
              "      <th>23</th>\n",
              "      <td>23</td>\n",
              "      <td>1</td>\n",
              "      <td>1</td>\n",
              "      <td>Sloper</td>\n",
              "      <td>male</td>\n",
              "      <td>28</td>\n",
              "      <td>113788</td>\n",
              "      <td>26.0000</td>\n",
              "      <td>S</td>\n",
              "      <td>16.8</td>\n",
              "      <td>30.368000</td>\n",
              "    </tr>\n",
              "    <tr>\n",
              "      <th>24</th>\n",
              "      <td>24</td>\n",
              "      <td>0</td>\n",
              "      <td>3</td>\n",
              "      <td>Palsson</td>\n",
              "      <td>female</td>\n",
              "      <td>48</td>\n",
              "      <td>349909</td>\n",
              "      <td>8.0292</td>\n",
              "      <td>S</td>\n",
              "      <td>19.0</td>\n",
              "      <td>9.554748</td>\n",
              "    </tr>\n",
              "  </tbody>\n",
              "</table>\n",
              "</div>\n",
              "      <button class=\"colab-df-convert\" onclick=\"convertToInteractive('df-a7c9b4ea-de76-4b89-a4e0-f44909a9602d')\"\n",
              "              title=\"Convert this dataframe to an interactive table.\"\n",
              "              style=\"display:none;\">\n",
              "        \n",
              "  <svg xmlns=\"http://www.w3.org/2000/svg\" height=\"24px\"viewBox=\"0 0 24 24\"\n",
              "       width=\"24px\">\n",
              "    <path d=\"M0 0h24v24H0V0z\" fill=\"none\"/>\n",
              "    <path d=\"M18.56 5.44l.94 2.06.94-2.06 2.06-.94-2.06-.94-.94-2.06-.94 2.06-2.06.94zm-11 1L8.5 8.5l.94-2.06 2.06-.94-2.06-.94L8.5 2.5l-.94 2.06-2.06.94zm10 10l.94 2.06.94-2.06 2.06-.94-2.06-.94-.94-2.06-.94 2.06-2.06.94z\"/><path d=\"M17.41 7.96l-1.37-1.37c-.4-.4-.92-.59-1.43-.59-.52 0-1.04.2-1.43.59L10.3 9.45l-7.72 7.72c-.78.78-.78 2.05 0 2.83L4 21.41c.39.39.9.59 1.41.59.51 0 1.02-.2 1.41-.59l7.78-7.78 2.81-2.81c.8-.78.8-2.07 0-2.86zM5.41 20L4 18.59l7.72-7.72 1.47 1.35L5.41 20z\"/>\n",
              "  </svg>\n",
              "      </button>\n",
              "      \n",
              "  <style>\n",
              "    .colab-df-container {\n",
              "      display:flex;\n",
              "      flex-wrap:wrap;\n",
              "      gap: 12px;\n",
              "    }\n",
              "\n",
              "    .colab-df-convert {\n",
              "      background-color: #E8F0FE;\n",
              "      border: none;\n",
              "      border-radius: 50%;\n",
              "      cursor: pointer;\n",
              "      display: none;\n",
              "      fill: #1967D2;\n",
              "      height: 32px;\n",
              "      padding: 0 0 0 0;\n",
              "      width: 32px;\n",
              "    }\n",
              "\n",
              "    .colab-df-convert:hover {\n",
              "      background-color: #E2EBFA;\n",
              "      box-shadow: 0px 1px 2px rgba(60, 64, 67, 0.3), 0px 1px 3px 1px rgba(60, 64, 67, 0.15);\n",
              "      fill: #174EA6;\n",
              "    }\n",
              "\n",
              "    [theme=dark] .colab-df-convert {\n",
              "      background-color: #3B4455;\n",
              "      fill: #D2E3FC;\n",
              "    }\n",
              "\n",
              "    [theme=dark] .colab-df-convert:hover {\n",
              "      background-color: #434B5C;\n",
              "      box-shadow: 0px 1px 3px 1px rgba(0, 0, 0, 0.15);\n",
              "      filter: drop-shadow(0px 1px 2px rgba(0, 0, 0, 0.3));\n",
              "      fill: #FFFFFF;\n",
              "    }\n",
              "  </style>\n",
              "\n",
              "      <script>\n",
              "        const buttonEl =\n",
              "          document.querySelector('#df-a7c9b4ea-de76-4b89-a4e0-f44909a9602d button.colab-df-convert');\n",
              "        buttonEl.style.display =\n",
              "          google.colab.kernel.accessAllowed ? 'block' : 'none';\n",
              "\n",
              "        async function convertToInteractive(key) {\n",
              "          const element = document.querySelector('#df-a7c9b4ea-de76-4b89-a4e0-f44909a9602d');\n",
              "          const dataTable =\n",
              "            await google.colab.kernel.invokeFunction('convertToInteractive',\n",
              "                                                     [key], {});\n",
              "          if (!dataTable) return;\n",
              "\n",
              "          const docLinkHtml = 'Like what you see? Visit the ' +\n",
              "            '<a target=\"_blank\" href=https://colab.research.google.com/notebooks/data_table.ipynb>data table notebook</a>'\n",
              "            + ' to learn more about interactive tables.';\n",
              "          element.innerHTML = '';\n",
              "          dataTable['output_type'] = 'display_data';\n",
              "          await google.colab.output.renderOutput(dataTable, element);\n",
              "          const docLink = document.createElement('div');\n",
              "          docLink.innerHTML = docLinkHtml;\n",
              "          element.appendChild(docLink);\n",
              "        }\n",
              "      </script>\n",
              "    </div>\n",
              "  </div>\n",
              "  "
            ]
          },
          "metadata": {},
          "execution_count": 5
        }
      ]
    },
    {
      "cell_type": "markdown",
      "source": [
        "1. Draw a bar chart with Embarked and its count (use different colors for each team)"
      ],
      "metadata": {
        "id": "z0uw9qrWf4AD"
      }
    },
    {
      "cell_type": "code",
      "source": [
        "import matplotlib.pyplot as plt\n",
        "data= df['Embarked'].value_counts()\n",
        "data\n",
        "plt.bar(data.index, data.values, color=['yellow','orange','red'])\n",
        "\n"
      ],
      "metadata": {
        "colab": {
          "base_uri": "https://localhost:8080/",
          "height": 283
        },
        "id": "viKMuQUEf5go",
        "outputId": "6efaf438-af12-4f50-c686-139e8c8a6a42"
      },
      "execution_count": 7,
      "outputs": [
        {
          "output_type": "execute_result",
          "data": {
            "text/plain": [
              "<BarContainer object of 3 artists>"
            ]
          },
          "metadata": {},
          "execution_count": 7
        },
        {
          "output_type": "display_data",
          "data": {
            "text/plain": [
              "<Figure size 432x288 with 1 Axes>"
            ],
            "image/png": "[encoded data removed]"
          },
          "metadata": {
            "needs_background": "light"
          }
        }
      ]
    },
    {
      "cell_type": "markdown",
      "source": [
        "2. Draw a comparative bar chart for Fare and New_Fare against each person (first 15\n",
        "persons)"
      ],
      "metadata": {
        "id": "XHFlHMUGgLLe"
      }
    },
    {
      "cell_type": "code",
      "source": [
        "import numpy as np\n",
        "n=15\n",
        "ind=np.arange(n)\n",
        "width=0.25\n",
        "\n",
        "bar1=plt.bar(ind,df['Fare'].head(15),width,color='r')\n",
        "bar2=plt.bar(ind+width,df['New_Fare'].head(15),width,color='b')"
      ],
      "metadata": {
        "colab": {
          "base_uri": "https://localhost:8080/",
          "height": 265
        },
        "id": "T6m-D2r3gMMQ",
        "outputId": "3805a9ac-9cb6-4d90-94f1-946a9743554e"
      },
      "execution_count": 10,
      "outputs": [
        {
          "output_type": "display_data",
          "data": {
            "text/plain": [
              "<Figure size 432x288 with 1 Axes>"
            ],
            "image/png": "[encoded data removed]"
          },
          "metadata": {
            "needs_background": "light"
          }
        }
      ]
    },
    {
      "cell_type": "markdown",
      "source": [
        "3. Draw a horizontal bar chart for Embarked and Fare"
      ],
      "metadata": {
        "id": "m8NJhfRxi6XP"
      }
    },
    {
      "cell_type": "code",
      "source": [
        "plt.barh(df['Embarked'],df['Fare'], color=['red'])"
      ],
      "metadata": {
        "colab": {
          "base_uri": "https://localhost:8080/",
          "height": 283
        },
        "id": "ESi_glEXi7Ng",
        "outputId": "883b0e5f-6933-4b11-b057-ea1e8ee56b01"
      },
      "execution_count": 11,
      "outputs": [
        {
          "output_type": "execute_result",
          "data": {
            "text/plain": [
              "<BarContainer object of 25 artists>"
            ]
          },
          "metadata": {},
          "execution_count": 11
        },
        {
          "output_type": "display_data",
          "data": {
            "text/plain": [
              "<Figure size 432x288 with 1 Axes>"
            ],
            "image/png": "[encoded data removed]"
          },
          "metadata": {
            "needs_background": "light"
          }
        }
      ]
    },
    {
      "cell_type": "markdown",
      "source": [
        "4. Draw a stacked bar chart for Fare and New_Fare against the person (first 10 persons)"
      ],
      "metadata": {
        "id": "wTvnSsUNqxjh"
      }
    },
    {
      "cell_type": "code",
      "source": [
        "plt.bar(df['Name'].head(10),df['Fare'].head(10),color='blue')\n",
        "plt.bar(df['Name'].head(10),df['New_Fare'].head(10),bottom=df['Fare'].head(10),color=\"green\")"
      ],
      "metadata": {
        "colab": {
          "base_uri": "https://localhost:8080/",
          "height": 286
        },
        "id": "sBQZ4PKAqyVW",
        "outputId": "e4f31ce6-18b5-46be-de95-17a2d8eeaf2b"
      },
      "execution_count": 12,
      "outputs": [
        {
          "output_type": "execute_result",
          "data": {
            "text/plain": [
              "<BarContainer object of 10 artists>"
            ]
          },
          "metadata": {},
          "execution_count": 12
        },
        {
          "output_type": "display_data",
          "data": {
            "text/plain": [
              "<Figure size 432x288 with 1 Axes>"
            ],
            "image/png": "[encoded data removed]"
          },
          "metadata": {
            "needs_background": "light"
          }
        }
      ]
    },
    {
      "cell_type": "code",
      "source": [
        "#5.Draw a pie chart with Passenger class and its count\n",
        "data=df['Pclass'].value_counts()\n",
        "data\n",
        "plt.pie(data.values,labels=data.index,autopct=\"%1.1f%%\");"
      ],
      "metadata": {
        "colab": {
          "base_uri": "https://localhost:8080/",
          "height": 248
        },
        "id": "dgPebgYxrapd",
        "outputId": "d74658e0-451b-46e9-cdbc-0f205e5a0ec3"
      },
      "execution_count": 13,
      "outputs": [
        {
          "output_type": "display_data",
          "data": {
            "text/plain": [
              "<Figure size 432x288 with 1 Axes>"
            ],
            "image/png": "[encoded data removed]"
          },
          "metadata": {}
        }
      ]
    },
    {
      "cell_type": "code",
      "source": [
        "#6.Draw the dot plot between person and age (first 15 persons)\n",
        "plt.plot(df['Name'].head(15),df['Age'].head(15),linewidth=0,marker='o',color='blue')\n",
        "plt.title('Person v age')\n",
        "plt.xlabel('Person')\n",
        "plt.ylabel('Age')"
      ],
      "metadata": {
        "colab": {
          "base_uri": "https://localhost:8080/",
          "height": 313
        },
        "id": "SUBOVloErbbE",
        "outputId": "5393c8a5-e1de-445e-a956-bd3865b31885"
      },
      "execution_count": 14,
      "outputs": [
        {
          "output_type": "execute_result",
          "data": {
            "text/plain": [
              "Text(0, 0.5, 'Age')"
            ]
          },
          "metadata": {},
          "execution_count": 14
        },
        {
          "output_type": "display_data",
          "data": {
            "text/plain": [
              "<Figure size 432x288 with 1 Axes>"
            ],
            "image/png": "[encoded data removed]"
          },
          "metadata": {
            "needs_background": "light"
          }
        }
      ]
    },
    {
      "cell_type": "code",
      "source": [
        "#7.Draw the line plot between Age and Concession. Observe the trend line.\n",
        "plt.plot(df['Age'].head(15),df['Concession'].head(15),marker='*',color='blue')\n",
        "plt.title('Age v Concession')\n",
        "plt.xlabel('Age')\n",
        "plt.ylabel('Concession')"
      ],
      "metadata": {
        "colab": {
          "base_uri": "https://localhost:8080/",
          "height": 313
        },
        "id": "06iHPG11riwh",
        "outputId": "e2f8f62e-f645-4e96-fc3a-b042515983be"
      },
      "execution_count": 15,
      "outputs": [
        {
          "output_type": "execute_result",
          "data": {
            "text/plain": [
              "Text(0, 0.5, 'Concession')"
            ]
          },
          "metadata": {},
          "execution_count": 15
        },
        {
          "output_type": "display_data",
          "data": {
            "text/plain": [
              "<Figure size 432x288 with 1 Axes>"
            ],
            "image/png": "[encoded data removed]"
          },
          "metadata": {
            "needs_background": "light"
          }
        }
      ]
    },
    {
      "cell_type": "code",
      "source": [
        "#8.Draw the scatter plot between Fare and New_Fare. Observe the correlation\n",
        "\n",
        "plt.scatter(df['Fare'],df['New_Fare'],color='brown')\n",
        "plt.xlabel('Fare')\n",
        "plt.ylabel('New_Frame')"
      ],
      "metadata": {
        "colab": {
          "base_uri": "https://localhost:8080/",
          "height": 297
        },
        "id": "jDVioUhFrjjB",
        "outputId": "c46a5093-0f9f-4c4c-bc45-713098682312"
      },
      "execution_count": 16,
      "outputs": [
        {
          "output_type": "execute_result",
          "data": {
            "text/plain": [
              "Text(0, 0.5, 'New_Frame')"
            ]
          },
          "metadata": {},
          "execution_count": 16
        },
        {
          "output_type": "display_data",
          "data": {
            "text/plain": [
              "<Figure size 432x288 with 1 Axes>"
            ],
            "image/png": "[encoded data removed]"
          },
          "metadata": {
            "needs_background": "light"
          }
        }
      ]
    },
    {
      "cell_type": "code",
      "source": [
        "#9.Draw the scatter plot between Age and Fare. Observe the correlation\n",
        "x=df['Age']\n",
        "y=df['Fare']\n",
        "plt.scatter(x,y,c='red')\n",
        "plt.xlabel('Age')\n",
        "plt.ylabel('Frame')"
      ],
      "metadata": {
        "colab": {
          "base_uri": "https://localhost:8080/",
          "height": 297
        },
        "id": "zeZWPeYTrnpB",
        "outputId": "496fb14c-5a24-4be4-95fc-e1b7b31dbf4f"
      },
      "execution_count": 17,
      "outputs": [
        {
          "output_type": "execute_result",
          "data": {
            "text/plain": [
              "Text(0, 0.5, 'Frame')"
            ]
          },
          "metadata": {},
          "execution_count": 17
        },
        {
          "output_type": "display_data",
          "data": {
            "text/plain": [
              "<Figure size 432x288 with 1 Axes>"
            ],
            "image/png": "[encoded data removed]"
          },
          "metadata": {
            "needs_background": "light"
          }
        }
      ]
    },
    {
      "cell_type": "code",
      "source": [
        "#10. Draw the box plot to show the statistical summary of Age column and verify with describe()\n",
        "\n",
        "#df=df.sort_values(by=\"Age\",ascending=True)\n",
        "plt.boxplot(df['Age']);"
      ],
      "metadata": {
        "colab": {
          "base_uri": "https://localhost:8080/",
          "height": 265
        },
        "id": "GECLQswGroYB",
        "outputId": "5012a002-334a-417b-d6e3-a0cbaed7f7e5"
      },
      "execution_count": 18,
      "outputs": [
        {
          "output_type": "display_data",
          "data": {
            "text/plain": [
              "<Figure size 432x288 with 1 Axes>"
            ],
            "image/png": "[encoded data removed]"
          },
          "metadata": {
            "needs_background": "light"
          }
        }
      ]
    },
    {
      "cell_type": "code",
      "source": [
        "#11.Draw the histogram plot for Concession column\n",
        "plt.hist(df['Concession'],edgecolor='yellow');"
      ],
      "metadata": {
        "colab": {
          "base_uri": "https://localhost:8080/",
          "height": 265
        },
        "id": "usVDHgGmrt8V",
        "outputId": "e5a1281c-fd80-41f1-ac51-488214423ca7"
      },
      "execution_count": 19,
      "outputs": [
        {
          "output_type": "display_data",
          "data": {
            "text/plain": [
              "<Figure size 432x288 with 1 Axes>"
            ],
            "image/png": "[encoded data removed]"
          },
          "metadata": {
            "needs_background": "light"
          }
        }
      ]
    },
    {
      "cell_type": "code",
      "source": [
        "#12.Draw the histogram plot for Concession column with bin value and PDF\n",
        "plt.hist(df['Concession'],edgecolor='red',density=True,bins=6);"
      ],
      "metadata": {
        "colab": {
          "base_uri": "https://localhost:8080/",
          "height": 268
        },
        "id": "RUDHqUVurymi",
        "outputId": "f90500ab-6fcd-43c4-f794-3985589f64e3"
      },
      "execution_count": 20,
      "outputs": [
        {
          "output_type": "display_data",
          "data": {
            "text/plain": [
              "<Figure size 432x288 with 1 Axes>"
            ],
            "image/png": "[encoded data removed]"
          },
          "metadata": {
            "needs_background": "light"
          }
        }
      ]
    },
    {
      "cell_type": "markdown",
      "source": [
        "Activity 2"
      ],
      "metadata": {
        "id": "eTcAplERiVdZ"
      }
    },
    {
      "cell_type": "code",
      "source": [
        "import pandas as pd\n",
        "import numpy as np\n",
        "import matplotlib.pyplot as plt\n",
        "from sklearn.linear_model import LinearRegression\n",
        "from sklearn.neighbors import KNeighborsClassifier\n",
        "from sklearn.metrics import confusion_matrix\n",
        "from sklearn.model_selection import train_test_split\n",
        "from sklearn.preprocessing import StandardScaler\n",
        "from sklearn.metrics import accuracy_score\n",
        "from sklearn.metrics import precision_score\n",
        "from sklearn.metrics import recall_score\n",
        "from sklearn.metrics import f1_score\n",
        "from sklearn.preprocessing import LabelEncoder\n",
        "from sklearn.metrics import roc_curve, roc_auc_score"
      ],
      "metadata": {
        "id": "XrH_tgi_iXx-"
      },
      "execution_count": 30,
      "outputs": []
    },
    {
      "cell_type": "code",
      "source": [
        "import pandas as pd\n",
        "import numpy as np\n",
        "from matplotlib import pyplot as plt\n",
        "import math\n",
        "from sklearn import metrics as metrics\n",
        "import scipy.stats as stats\n",
        "heart_disease = pd.read_csv('/content/drive/MyDrive/heart.data.csv')\n",
        "heart_disease"
      ],
      "metadata": {
        "colab": {
          "base_uri": "https://localhost:8080/",
          "height": 423
        },
        "id": "CBgHar4GicNy",
        "outputId": "9d60d420-0b86-4ced-9ab6-8c4ffa6dc800"
      },
      "execution_count": 31,
      "outputs": [
        {
          "output_type": "execute_result",
          "data": {
            "text/plain": [
              "     Unnamed: 0     biking    smoking  heart.disease\n",
              "0             1  30.801246  10.896608      11.769423\n",
              "1             2  65.129215   2.219563       2.854081\n",
              "2             3   1.959665  17.588331      17.177803\n",
              "3             4  44.800196   2.802559       6.816647\n",
              "4             5  69.428454  15.974505       4.062224\n",
              "..          ...        ...        ...            ...\n",
              "493         494  47.660440  27.562464      11.294392\n",
              "494         495  45.097203  21.385620       9.616762\n",
              "495         496   8.279743   6.423720      13.495168\n",
              "496         497  42.345863  20.741328      10.115865\n",
              "497         498  30.774254  23.610175      11.843556\n",
              "\n",
              "[498 rows x 4 columns]"
            ],
            "text/html": [
              "\n",
              "  <div id=\"df-a3bd51ad-6a28-455e-915f-7d5322332094\">\n",
              "    <div class=\"colab-df-container\">\n",
              "      <div>\n",
              "<style scoped>\n",
              "    .dataframe tbody tr th:only-of-type {\n",
              "        vertical-align: middle;\n",
              "    }\n",
              "\n",
              "    .dataframe tbody tr th {\n",
              "        vertical-align: top;\n",
              "    }\n",
              "\n",
              "    .dataframe thead th {\n",
              "        text-align: right;\n",
              "    }\n",
              "</style>\n",
              "<table border=\"1\" class=\"dataframe\">\n",
              "  <thead>\n",
              "    <tr style=\"text-align: right;\">\n",
              "      <th></th>\n",
              "      <th>Unnamed: 0</th>\n",
              "      <th>biking</th>\n",
              "      <th>smoking</th>\n",
              "      <th>heart.disease</th>\n",
              "    </tr>\n",
              "  </thead>\n",
              "  <tbody>\n",
              "    <tr>\n",
              "      <th>0</th>\n",
              "      <td>1</td>\n",
              "      <td>30.801246</td>\n",
              "      <td>10.896608</td>\n",
              "      <td>11.769423</td>\n",
              "    </tr>\n",
              "    <tr>\n",
              "      <th>1</th>\n",
              "      <td>2</td>\n",
              "      <td>65.129215</td>\n",
              "      <td>2.219563</td>\n",
              "      <td>2.854081</td>\n",
              "    </tr>\n",
              "    <tr>\n",
              "      <th>2</th>\n",
              "      <td>3</td>\n",
              "      <td>1.959665</td>\n",
              "      <td>17.588331</td>\n",
              "      <td>17.177803</td>\n",
              "    </tr>\n",
              "    <tr>\n",
              "      <th>3</th>\n",
              "      <td>4</td>\n",
              "      <td>44.800196</td>\n",
              "      <td>2.802559</td>\n",
              "      <td>6.816647</td>\n",
              "    </tr>\n",
              "    <tr>\n",
              "      <th>4</th>\n",
              "      <td>5</td>\n",
              "      <td>69.428454</td>\n",
              "      <td>15.974505</td>\n",
              "      <td>4.062224</td>\n",
              "    </tr>\n",
              "    <tr>\n",
              "      <th>...</th>\n",
              "      <td>...</td>\n",
              "      <td>...</td>\n",
              "      <td>...</td>\n",
              "      <td>...</td>\n",
              "    </tr>\n",
              "    <tr>\n",
              "      <th>493</th>\n",
              "      <td>494</td>\n",
              "      <td>47.660440</td>\n",
              "      <td>27.562464</td>\n",
              "      <td>11.294392</td>\n",
              "    </tr>\n",
              "    <tr>\n",
              "      <th>494</th>\n",
              "      <td>495</td>\n",
              "      <td>45.097203</td>\n",
              "      <td>21.385620</td>\n",
              "      <td>9.616762</td>\n",
              "    </tr>\n",
              "    <tr>\n",
              "      <th>495</th>\n",
              "      <td>496</td>\n",
              "      <td>8.279743</td>\n",
              "      <td>6.423720</td>\n",
              "      <td>13.495168</td>\n",
              "    </tr>\n",
              "    <tr>\n",
              "      <th>496</th>\n",
              "      <td>497</td>\n",
              "      <td>42.345863</td>\n",
              "      <td>20.741328</td>\n",
              "      <td>10.115865</td>\n",
              "    </tr>\n",
              "    <tr>\n",
              "      <th>497</th>\n",
              "      <td>498</td>\n",
              "      <td>30.774254</td>\n",
              "      <td>23.610175</td>\n",
              "      <td>11.843556</td>\n",
              "    </tr>\n",
              "  </tbody>\n",
              "</table>\n",
              "<p>498 rows × 4 columns</p>\n",
              "</div>\n",
              "      <button class=\"colab-df-convert\" onclick=\"convertToInteractive('df-a3bd51ad-6a28-455e-915f-7d5322332094')\"\n",
              "              title=\"Convert this dataframe to an interactive table.\"\n",
              "              style=\"display:none;\">\n",
              "        \n",
              "  <svg xmlns=\"http://www.w3.org/2000/svg\" height=\"24px\"viewBox=\"0 0 24 24\"\n",
              "       width=\"24px\">\n",
              "    <path d=\"M0 0h24v24H0V0z\" fill=\"none\"/>\n",
              "    <path d=\"M18.56 5.44l.94 2.06.94-2.06 2.06-.94-2.06-.94-.94-2.06-.94 2.06-2.06.94zm-11 1L8.5 8.5l.94-2.06 2.06-.94-2.06-.94L8.5 2.5l-.94 2.06-2.06.94zm10 10l.94 2.06.94-2.06 2.06-.94-2.06-.94-.94-2.06-.94 2.06-2.06.94z\"/><path d=\"M17.41 7.96l-1.37-1.37c-.4-.4-.92-.59-1.43-.59-.52 0-1.04.2-1.43.59L10.3 9.45l-7.72 7.72c-.78.78-.78 2.05 0 2.83L4 21.41c.39.39.9.59 1.41.59.51 0 1.02-.2 1.41-.59l7.78-7.78 2.81-2.81c.8-.78.8-2.07 0-2.86zM5.41 20L4 18.59l7.72-7.72 1.47 1.35L5.41 20z\"/>\n",
              "  </svg>\n",
              "      </button>\n",
              "      \n",
              "  <style>\n",
              "    .colab-df-container {\n",
              "      display:flex;\n",
              "      flex-wrap:wrap;\n",
              "      gap: 12px;\n",
              "    }\n",
              "\n",
              "    .colab-df-convert {\n",
              "      background-color: #E8F0FE;\n",
              "      border: none;\n",
              "      border-radius: 50%;\n",
              "      cursor: pointer;\n",
              "      display: none;\n",
              "      fill: #1967D2;\n",
              "      height: 32px;\n",
              "      padding: 0 0 0 0;\n",
              "      width: 32px;\n",
              "    }\n",
              "\n",
              "    .colab-df-convert:hover {\n",
              "      background-color: #E2EBFA;\n",
              "      box-shadow: 0px 1px 2px rgba(60, 64, 67, 0.3), 0px 1px 3px 1px rgba(60, 64, 67, 0.15);\n",
              "      fill: #174EA6;\n",
              "    }\n",
              "\n",
              "    [theme=dark] .colab-df-convert {\n",
              "      background-color: #3B4455;\n",
              "      fill: #D2E3FC;\n",
              "    }\n",
              "\n",
              "    [theme=dark] .colab-df-convert:hover {\n",
              "      background-color: #434B5C;\n",
              "      box-shadow: 0px 1px 3px 1px rgba(0, 0, 0, 0.15);\n",
              "      filter: drop-shadow(0px 1px 2px rgba(0, 0, 0, 0.3));\n",
              "      fill: #FFFFFF;\n",
              "    }\n",
              "  </style>\n",
              "\n",
              "      <script>\n",
              "        const buttonEl =\n",
              "          document.querySelector('#df-a3bd51ad-6a28-455e-915f-7d5322332094 button.colab-df-convert');\n",
              "        buttonEl.style.display =\n",
              "          google.colab.kernel.accessAllowed ? 'block' : 'none';\n",
              "\n",
              "        async function convertToInteractive(key) {\n",
              "          const element = document.querySelector('#df-a3bd51ad-6a28-455e-915f-7d5322332094');\n",
              "          const dataTable =\n",
              "            await google.colab.kernel.invokeFunction('convertToInteractive',\n",
              "                                                     [key], {});\n",
              "          if (!dataTable) return;\n",
              "\n",
              "          const docLinkHtml = 'Like what you see? Visit the ' +\n",
              "            '<a target=\"_blank\" href=https://colab.research.google.com/notebooks/data_table.ipynb>data table notebook</a>'\n",
              "            + ' to learn more about interactive tables.';\n",
              "          element.innerHTML = '';\n",
              "          dataTable['output_type'] = 'display_data';\n",
              "          await google.colab.output.renderOutput(dataTable, element);\n",
              "          const docLink = document.createElement('div');\n",
              "          docLink.innerHTML = docLinkHtml;\n",
              "          element.appendChild(docLink);\n",
              "        }\n",
              "      </script>\n",
              "    </div>\n",
              "  </div>\n",
              "  "
            ]
          },
          "metadata": {},
          "execution_count": 31
        }
      ]
    },
    {
      "cell_type": "code",
      "source": [
        "x = df.iloc[:,:-1]\n",
        "y = df.iloc[:,-1]\n",
        "x_train,x_test,y_train,y_test = train_test_split(x,y,train_size=0.25)"
      ],
      "metadata": {
        "id": "Ev4rii1ei6zF"
      },
      "execution_count": 32,
      "outputs": []
    },
    {
      "cell_type": "markdown",
      "source": [
        "b. Analyse the impact of smoking to the heart disease and display the intercept and\n",
        "regression coefficients"
      ],
      "metadata": {
        "id": "bjgf8HKQjE6B"
      }
    },
    {
      "cell_type": "code",
      "source": [
        "features = ['biking', 'smoking', 'heart.disease']\n",
        "target = 'heart.disease'\n",
        "X_train, X_test, y_train, y_test = train_test_split(heart_disease[features], heart_disease[target], test_size=0.25, random_state=42)\n",
        "model = LinearRegression()\n",
        "model.fit(heart_disease[['smoking']], heart_disease[target])\n",
        "print(\"Intercept: \", model.intercept_)\n",
        "print(\"Regression Coefficient for smoking: \", model.coef_[0])"
      ],
      "metadata": {
        "colab": {
          "base_uri": "https://localhost:8080/"
        },
        "id": "LKotpzjWjGH_",
        "outputId": "849a1c77-5421-4c7b-d212-81f9f8a7dcec"
      },
      "execution_count": 33,
      "outputs": [
        {
          "output_type": "stream",
          "name": "stdout",
          "text": [
            "Intercept:  7.543106897173153\n",
            "Regression Coefficient for smoking:  0.17048430862795927\n"
          ]
        }
      ]
    },
    {
      "cell_type": "markdown",
      "source": [
        "c. Predict the y value (y’) for the testing set (x)"
      ],
      "metadata": {
        "id": "Vpt-AlYbjzHu"
      }
    },
    {
      "cell_type": "code",
      "source": [
        "features = ['biking', 'smoking', 'heart.disease']\n",
        "target = ['heart.disease']\n",
        "X_train, X_test, y_train, y_test = train_test_split(heart_disease[features], heart_disease[target], test_size=0.25, random_state=42)\n",
        "model = LinearRegression()\n",
        "model.fit(X_train, y_train)\n",
        "y_pred = model.predict(X_test)\n",
        "print(y_pred)"
      ],
      "metadata": {
        "colab": {
          "base_uri": "https://localhost:8080/"
        },
        "id": "RzEmpkQrjz5h",
        "outputId": "465b0ecc-86ff-40e0-b9a7-cea679daf8ba"
      },
      "execution_count": 34,
      "outputs": [
        {
          "output_type": "stream",
          "name": "stdout",
          "text": [
            "[[ 6.75601546]\n",
            " [ 9.46602604]\n",
            " [14.08865401]\n",
            " [13.37742996]\n",
            " [16.38467802]\n",
            " [13.37980742]\n",
            " [ 7.59179728]\n",
            " [10.05580546]\n",
            " [ 6.80839968]\n",
            " [12.09848437]\n",
            " [ 7.81638864]\n",
            " [ 9.83547443]\n",
            " [ 4.94609016]\n",
            " [ 9.77538589]\n",
            " [ 7.70739764]\n",
            " [17.05893586]\n",
            " [ 4.29637701]\n",
            " [ 7.98222748]\n",
            " [ 5.52393102]\n",
            " [ 5.92568029]\n",
            " [ 1.10482036]\n",
            " [ 7.61880347]\n",
            " [12.37369096]\n",
            " [14.17984416]\n",
            " [11.63207228]\n",
            " [13.17374097]\n",
            " [ 6.50794745]\n",
            " [10.37232868]\n",
            " [13.37300547]\n",
            " [11.75315615]\n",
            " [ 8.55785408]\n",
            " [12.04664323]\n",
            " [12.92167259]\n",
            " [17.17780348]\n",
            " [ 3.29621777]\n",
            " [ 6.51670365]\n",
            " [ 6.7390807 ]\n",
            " [ 7.59016604]\n",
            " [13.28367033]\n",
            " [10.86552244]\n",
            " [ 2.70846056]\n",
            " [ 3.40208038]\n",
            " [ 8.02740434]\n",
            " [10.37756908]\n",
            " [11.76942278]\n",
            " [ 8.60827208]\n",
            " [15.98937136]\n",
            " [ 7.47437198]\n",
            " [17.87769197]\n",
            " [ 3.68936446]\n",
            " [ 0.98753645]\n",
            " [ 5.07228124]\n",
            " [ 6.95950199]\n",
            " [15.19818432]\n",
            " [ 9.74718577]\n",
            " [ 6.71507793]\n",
            " [ 7.93060122]\n",
            " [11.29439158]\n",
            " [13.01604512]\n",
            " [ 4.07682347]\n",
            " [ 7.3303757 ]\n",
            " [ 7.04062107]\n",
            " [13.47050633]\n",
            " [ 5.56092164]\n",
            " [11.10563057]\n",
            " [12.81263706]\n",
            " [16.16479395]\n",
            " [ 5.68568185]\n",
            " [17.47394032]\n",
            " [ 9.23007425]\n",
            " [ 4.70700936]\n",
            " [ 3.74449837]\n",
            " [18.68979793]\n",
            " [16.19911804]\n",
            " [ 3.10933775]\n",
            " [ 9.51338391]\n",
            " [13.28152871]\n",
            " [ 6.73577092]\n",
            " [11.1407355 ]\n",
            " [ 8.86792508]\n",
            " [19.43196008]\n",
            " [ 6.91625864]\n",
            " [14.63576932]\n",
            " [ 7.66534592]\n",
            " [10.23358752]\n",
            " [ 4.09076484]\n",
            " [14.46601284]\n",
            " [14.80814956]\n",
            " [14.83034396]\n",
            " [11.60093943]\n",
            " [ 9.78016512]\n",
            " [13.75798666]\n",
            " [16.3479313 ]\n",
            " [13.33442806]\n",
            " [ 8.74484531]\n",
            " [12.99647582]\n",
            " [ 4.48099302]\n",
            " [ 5.85827788]\n",
            " [ 5.47890872]\n",
            " [ 8.54909495]\n",
            " [15.0086341 ]\n",
            " [ 6.66207532]\n",
            " [ 5.33403739]\n",
            " [ 7.83138475]\n",
            " [ 3.52297632]\n",
            " [12.074926  ]\n",
            " [13.64807731]\n",
            " [13.75157748]\n",
            " [ 9.08844485]\n",
            " [11.29631616]\n",
            " [ 5.41591739]\n",
            " [10.11586515]\n",
            " [ 4.91638345]\n",
            " [12.88681678]\n",
            " [ 7.25794619]\n",
            " [ 4.68009745]\n",
            " [ 9.32447395]\n",
            " [12.78845054]\n",
            " [12.5378281 ]\n",
            " [10.97176085]\n",
            " [ 8.34557354]\n",
            " [16.52729331]\n",
            " [10.7291815 ]\n",
            " [15.00071543]\n",
            " [ 8.31089766]]\n"
          ]
        }
      ]
    },
    {
      "cell_type": "markdown",
      "source": [
        "d. Analyse the performance metrics with the actual value (y) and predicted values (y’)"
      ],
      "metadata": {
        "id": "t5pRiEPGj_AT"
      }
    },
    {
      "cell_type": "code",
      "source": [
        "from sklearn.metrics import mean_squared_error, mean_absolute_error, r2_score\n",
        "features = ['biking', 'smoking', 'heart.disease']\n",
        "target = 'heart.disease'\n",
        "X_train, X_test, y_train, y_test = train_test_split(heart_disease[features], heart_disease[target], test_size=0.25, random_state=42)\n",
        "model = LinearRegression()\n",
        "model.fit(X_train, y_train)\n",
        "y_pred = model.predict(X_test)\n",
        "mse = mean_squared_error(y_test, y_pred)\n",
        "mae = mean_absolute_error(y_test, y_pred)\n",
        "r2 = r2_score(y_test, y_pred)\n",
        "print(\"Mean Squared Error:\", mse)\n",
        "print(\"Mean Absolute Error:\", mae)\n",
        "print(\"R-Squared:\", r2)"
      ],
      "metadata": {
        "colab": {
          "base_uri": "https://localhost:8080/"
        },
        "id": "T8rOc9pzkBn7",
        "outputId": "6a64196a-a818-4567-bbbe-4c438c0f47b3"
      },
      "execution_count": 35,
      "outputs": [
        {
          "output_type": "stream",
          "name": "stdout",
          "text": [
            "Mean Squared Error: 6.249356091160855e-30\n",
            "Mean Absolute Error: 1.9788615190918792e-15\n",
            "R-Squared: 1.0\n"
          ]
        }
      ]
    },
    {
      "cell_type": "code",
      "source": [],
      "metadata": {
        "id": "RA9G3Dg7kDxG"
      },
      "execution_count": null,
      "outputs": []
    }
  ]
}